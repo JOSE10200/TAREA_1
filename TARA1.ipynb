{
  "nbformat": 4,
  "nbformat_minor": 0,
  "metadata": {
    "colab": {
      "name": "Untitled5.ipynb",
      "provenance": [],
      "authorship_tag": "ABX9TyNknWqJePhOD2YLUVazUmnP",
      "include_colab_link": true
    },
    "kernelspec": {
      "name": "python3",
      "display_name": "Python 3"
    }
  },
  "cells": [
    {
      "cell_type": "markdown",
      "metadata": {
        "id": "view-in-github",
        "colab_type": "text"
      },
      "source": [
        "<a href=\"https://colab.research.google.com/github/JOSE10200/TAREA_1/blob/main/TARA1.ipynb\" target=\"_parent\"><img src=\"https://colab.research.google.com/assets/colab-badge.svg\" alt=\"Open In Colab\"/></a>"
      ]
    },
    {
      "cell_type": "code",
      "metadata": {
        "colab": {
          "base_uri": "https://localhost:8080/"
        },
        "id": "NLBJx1vm_P8o",
        "outputId": "04f009da-5fa5-4b78-f67e-bd2d6152036d"
      },
      "source": [
        "print(\"hola, esta es mi primera tarea del taller\")\n",
        "nombre = input(\"¿cual es tu nombre? \")\n",
        "APELLIDO_PATERNO = input(\"¿cual es tu apellido paterno? \")\n",
        "APELLIDO_MATERNO = input(\"¿cual es tu apellido materno? \")\n",
        "MUNICIPIO = input(\"¿de donde eres? \")\n",
        "EDAD = input(\"¿que edad tienes? \")\n",
        "CARRERA = input(\"¿que estas estudiando? \")\n",
        "\n",
        "print(\"hola mi nombre es\", nombre, APELLIDO_PATERNO, APELLIDO_MATERNO, \"soy de\", MUNICIPIO, \"tengo\", EDAD, \"y estudio\", CARRERA )"
      ],
      "execution_count": 1,
      "outputs": [
        {
          "output_type": "stream",
          "text": [
            "hola, esta es mi primera tarea del taller\n",
            "¿cual es tu nombre? JOSE CARLOS\n",
            "¿cual es tu apellido paterno? LOPEZ\n",
            "¿cual es tu apellido materno? PEREZ\n",
            "¿de donde eres? ROMITA GTO\n",
            "¿que edad tienes? 21\n",
            "¿que estas estudiando? ING GEOMATICA\n",
            "hola mi nombre es JOSE CARLOS LOPEZ PEREZ soy de ROMITA GTO tengo 21 y estudio ING GEOMATICA\n"
          ],
          "name": "stdout"
        }
      ]
    }
  ]
}